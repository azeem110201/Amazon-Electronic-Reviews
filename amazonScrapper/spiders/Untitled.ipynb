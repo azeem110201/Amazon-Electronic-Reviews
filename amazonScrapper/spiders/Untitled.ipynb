{
 "cells": [
  {
   "cell_type": "code",
   "execution_count": 1,
   "metadata": {},
   "outputs": [
    {
     "name": "stdout",
     "output_type": "stream",
     "text": [
      "Wall time: 8.42 s\n"
     ]
    }
   ],
   "source": [
    "%%time\n",
    "\n",
    "import pandas as pd\n",
    "\n",
    "pos1 = pd.read_csv('pos_reviews.csv')\n",
    "pos2 = pd.read_csv('pos_reviews2.csv')\n",
    "neg = pd.read_csv('neg_reviews.csv')"
   ]
  },
  {
   "cell_type": "code",
   "execution_count": 2,
   "metadata": {},
   "outputs": [
    {
     "data": {
      "text/plain": [
       "((321230, 4), (61891, 4), (66658, 4))"
      ]
     },
     "execution_count": 2,
     "metadata": {},
     "output_type": "execute_result"
    }
   ],
   "source": [
    "pos1.shape, pos2.shape, neg.shape"
   ]
  },
  {
   "cell_type": "code",
   "execution_count": 3,
   "metadata": {},
   "outputs": [
    {
     "data": {
      "text/plain": [
       "Reviewer name        1\n",
       "title               40\n",
       "Review body         46\n",
       "Review rating    15875\n",
       "dtype: int64"
      ]
     },
     "execution_count": 3,
     "metadata": {},
     "output_type": "execute_result"
    }
   ],
   "source": [
    "pos1.isnull().sum()"
   ]
  },
  {
   "cell_type": "code",
   "execution_count": 4,
   "metadata": {},
   "outputs": [
    {
     "data": {
      "text/plain": [
       "Reviewer name        2\n",
       "title                6\n",
       "Review body         15\n",
       "Review rating    19923\n",
       "dtype: int64"
      ]
     },
     "execution_count": 4,
     "metadata": {},
     "output_type": "execute_result"
    }
   ],
   "source": [
    "pos2.isnull().sum()"
   ]
  },
  {
   "cell_type": "code",
   "execution_count": 5,
   "metadata": {},
   "outputs": [
    {
     "data": {
      "text/plain": [
       "Reviewer name       2\n",
       "title              10\n",
       "Review body         3\n",
       "Review rating    2237\n",
       "dtype: int64"
      ]
     },
     "execution_count": 5,
     "metadata": {},
     "output_type": "execute_result"
    }
   ],
   "source": [
    "neg.isnull().sum()"
   ]
  },
  {
   "cell_type": "code",
   "execution_count": 6,
   "metadata": {},
   "outputs": [],
   "source": [
    "df = pd.concat([pos1, pos2, neg], ignore_index=True)"
   ]
  },
  {
   "cell_type": "code",
   "execution_count": 7,
   "metadata": {},
   "outputs": [
    {
     "data": {
      "text/plain": [
       "(449779, 4)"
      ]
     },
     "execution_count": 7,
     "metadata": {},
     "output_type": "execute_result"
    }
   ],
   "source": [
    "df.shape"
   ]
  },
  {
   "cell_type": "code",
   "execution_count": 8,
   "metadata": {},
   "outputs": [],
   "source": [
    "df.to_csv('amazonReviews.csv',index=False)"
   ]
  },
  {
   "cell_type": "code",
   "execution_count": 1,
   "metadata": {},
   "outputs": [],
   "source": [
    "import pandas as pd"
   ]
  },
  {
   "cell_type": "code",
   "execution_count": 2,
   "metadata": {},
   "outputs": [],
   "source": [
    "df = pd.read_csv('amazonReviews.csv')"
   ]
  },
  {
   "cell_type": "code",
   "execution_count": 3,
   "metadata": {},
   "outputs": [
    {
     "data": {
      "text/plain": [
       "(449779, 4)"
      ]
     },
     "execution_count": 3,
     "metadata": {},
     "output_type": "execute_result"
    }
   ],
   "source": [
    "df.shape"
   ]
  },
  {
   "cell_type": "code",
   "execution_count": 4,
   "metadata": {},
   "outputs": [
    {
     "data": {
      "text/plain": [
       "383121"
      ]
     },
     "execution_count": 4,
     "metadata": {},
     "output_type": "execute_result"
    }
   ],
   "source": [
    "321230 + 61891"
   ]
  },
  {
   "cell_type": "code",
   "execution_count": 7,
   "metadata": {},
   "outputs": [
    {
     "data": {
      "text/html": [
       "<div>\n",
       "<style scoped>\n",
       "    .dataframe tbody tr th:only-of-type {\n",
       "        vertical-align: middle;\n",
       "    }\n",
       "\n",
       "    .dataframe tbody tr th {\n",
       "        vertical-align: top;\n",
       "    }\n",
       "\n",
       "    .dataframe thead th {\n",
       "        text-align: right;\n",
       "    }\n",
       "</style>\n",
       "<table border=\"1\" class=\"dataframe\">\n",
       "  <thead>\n",
       "    <tr style=\"text-align: right;\">\n",
       "      <th></th>\n",
       "      <th>Reviewer name</th>\n",
       "      <th>title</th>\n",
       "      <th>Review body</th>\n",
       "      <th>Review rating</th>\n",
       "      <th>sentiment</th>\n",
       "    </tr>\n",
       "  </thead>\n",
       "  <tbody>\n",
       "    <tr>\n",
       "      <th>0</th>\n",
       "      <td>Genuine buyer</td>\n",
       "      <td>Pros and cons</td>\n",
       "      <td>Great quality and the sound is actually great....</td>\n",
       "      <td>5.0 out of 5 stars</td>\n",
       "      <td>NaN</td>\n",
       "    </tr>\n",
       "    <tr>\n",
       "      <th>1</th>\n",
       "      <td>CHETAN SHETTER</td>\n",
       "      <td>Never Expected in this price range... I Assure...</td>\n",
       "      <td>I've been using this from past 6 months. This ...</td>\n",
       "      <td>5.0 out of 5 stars</td>\n",
       "      <td>NaN</td>\n",
       "    </tr>\n",
       "    <tr>\n",
       "      <th>2</th>\n",
       "      <td>Kiran Kumar M</td>\n",
       "      <td>Bass bastler, Awesome HD quality sound, rockin...</td>\n",
       "      <td>Perfect bass and nice one. Superb sound and it...</td>\n",
       "      <td>5.0 out of 5 stars</td>\n",
       "      <td>NaN</td>\n",
       "    </tr>\n",
       "    <tr>\n",
       "      <th>3</th>\n",
       "      <td>Raj Patel</td>\n",
       "      <td>Maybe buy boat basshead 100</td>\n",
       "      <td>Here is the review after 1 week of usePros:1.B...</td>\n",
       "      <td>4.0 out of 5 stars</td>\n",
       "      <td>NaN</td>\n",
       "    </tr>\n",
       "    <tr>\n",
       "      <th>4</th>\n",
       "      <td>SANJAY KUMAR TIWARI</td>\n",
       "      <td>Superb head stereo better than leading brands.</td>\n",
       "      <td>Purchased after seeing review with suspicion t...</td>\n",
       "      <td>5.0 out of 5 stars</td>\n",
       "      <td>NaN</td>\n",
       "    </tr>\n",
       "  </tbody>\n",
       "</table>\n",
       "</div>"
      ],
      "text/plain": [
       "         Reviewer name                                              title  \\\n",
       "0        Genuine buyer                                      Pros and cons   \n",
       "1       CHETAN SHETTER  Never Expected in this price range... I Assure...   \n",
       "2        Kiran Kumar M  Bass bastler, Awesome HD quality sound, rockin...   \n",
       "3            Raj Patel                        Maybe buy boat basshead 100   \n",
       "4  SANJAY KUMAR TIWARI     Superb head stereo better than leading brands.   \n",
       "\n",
       "                                         Review body       Review rating  \\\n",
       "0  Great quality and the sound is actually great....  5.0 out of 5 stars   \n",
       "1  I've been using this from past 6 months. This ...  5.0 out of 5 stars   \n",
       "2  Perfect bass and nice one. Superb sound and it...  5.0 out of 5 stars   \n",
       "3  Here is the review after 1 week of usePros:1.B...  4.0 out of 5 stars   \n",
       "4  Purchased after seeing review with suspicion t...  5.0 out of 5 stars   \n",
       "\n",
       "   sentiment  \n",
       "0        NaN  \n",
       "1        NaN  \n",
       "2        NaN  \n",
       "3        NaN  \n",
       "4        NaN  "
      ]
     },
     "execution_count": 7,
     "metadata": {},
     "output_type": "execute_result"
    }
   ],
   "source": [
    "df.head()"
   ]
  },
  {
   "cell_type": "code",
   "execution_count": 6,
   "metadata": {},
   "outputs": [],
   "source": [
    "import numpy as np\n",
    "df['sentiment'] = np.nan"
   ]
  },
  {
   "cell_type": "code",
   "execution_count": 9,
   "metadata": {},
   "outputs": [],
   "source": [
    "df.loc[:383122,'sentiment'] = 'positive'"
   ]
  },
  {
   "cell_type": "code",
   "execution_count": 10,
   "metadata": {},
   "outputs": [],
   "source": [
    "df.loc[383122:,'sentiment'] = 'negative'"
   ]
  },
  {
   "cell_type": "code",
   "execution_count": 11,
   "metadata": {},
   "outputs": [
    {
     "data": {
      "text/html": [
       "<div>\n",
       "<style scoped>\n",
       "    .dataframe tbody tr th:only-of-type {\n",
       "        vertical-align: middle;\n",
       "    }\n",
       "\n",
       "    .dataframe tbody tr th {\n",
       "        vertical-align: top;\n",
       "    }\n",
       "\n",
       "    .dataframe thead th {\n",
       "        text-align: right;\n",
       "    }\n",
       "</style>\n",
       "<table border=\"1\" class=\"dataframe\">\n",
       "  <thead>\n",
       "    <tr style=\"text-align: right;\">\n",
       "      <th></th>\n",
       "      <th>Reviewer name</th>\n",
       "      <th>title</th>\n",
       "      <th>Review body</th>\n",
       "      <th>Review rating</th>\n",
       "      <th>sentiment</th>\n",
       "    </tr>\n",
       "  </thead>\n",
       "  <tbody>\n",
       "    <tr>\n",
       "      <th>0</th>\n",
       "      <td>Genuine buyer</td>\n",
       "      <td>Pros and cons</td>\n",
       "      <td>Great quality and the sound is actually great....</td>\n",
       "      <td>5.0 out of 5 stars</td>\n",
       "      <td>positive</td>\n",
       "    </tr>\n",
       "    <tr>\n",
       "      <th>1</th>\n",
       "      <td>CHETAN SHETTER</td>\n",
       "      <td>Never Expected in this price range... I Assure...</td>\n",
       "      <td>I've been using this from past 6 months. This ...</td>\n",
       "      <td>5.0 out of 5 stars</td>\n",
       "      <td>positive</td>\n",
       "    </tr>\n",
       "    <tr>\n",
       "      <th>2</th>\n",
       "      <td>Kiran Kumar M</td>\n",
       "      <td>Bass bastler, Awesome HD quality sound, rockin...</td>\n",
       "      <td>Perfect bass and nice one. Superb sound and it...</td>\n",
       "      <td>5.0 out of 5 stars</td>\n",
       "      <td>positive</td>\n",
       "    </tr>\n",
       "    <tr>\n",
       "      <th>3</th>\n",
       "      <td>Raj Patel</td>\n",
       "      <td>Maybe buy boat basshead 100</td>\n",
       "      <td>Here is the review after 1 week of usePros:1.B...</td>\n",
       "      <td>4.0 out of 5 stars</td>\n",
       "      <td>positive</td>\n",
       "    </tr>\n",
       "    <tr>\n",
       "      <th>4</th>\n",
       "      <td>SANJAY KUMAR TIWARI</td>\n",
       "      <td>Superb head stereo better than leading brands.</td>\n",
       "      <td>Purchased after seeing review with suspicion t...</td>\n",
       "      <td>5.0 out of 5 stars</td>\n",
       "      <td>positive</td>\n",
       "    </tr>\n",
       "  </tbody>\n",
       "</table>\n",
       "</div>"
      ],
      "text/plain": [
       "         Reviewer name                                              title  \\\n",
       "0        Genuine buyer                                      Pros and cons   \n",
       "1       CHETAN SHETTER  Never Expected in this price range... I Assure...   \n",
       "2        Kiran Kumar M  Bass bastler, Awesome HD quality sound, rockin...   \n",
       "3            Raj Patel                        Maybe buy boat basshead 100   \n",
       "4  SANJAY KUMAR TIWARI     Superb head stereo better than leading brands.   \n",
       "\n",
       "                                         Review body       Review rating  \\\n",
       "0  Great quality and the sound is actually great....  5.0 out of 5 stars   \n",
       "1  I've been using this from past 6 months. This ...  5.0 out of 5 stars   \n",
       "2  Perfect bass and nice one. Superb sound and it...  5.0 out of 5 stars   \n",
       "3  Here is the review after 1 week of usePros:1.B...  4.0 out of 5 stars   \n",
       "4  Purchased after seeing review with suspicion t...  5.0 out of 5 stars   \n",
       "\n",
       "  sentiment  \n",
       "0  positive  \n",
       "1  positive  \n",
       "2  positive  \n",
       "3  positive  \n",
       "4  positive  "
      ]
     },
     "execution_count": 11,
     "metadata": {},
     "output_type": "execute_result"
    }
   ],
   "source": [
    "df.head()"
   ]
  },
  {
   "cell_type": "code",
   "execution_count": 12,
   "metadata": {},
   "outputs": [
    {
     "data": {
      "text/plain": [
       "Reviewer name        5\n",
       "title               56\n",
       "Review body         64\n",
       "Review rating    38035\n",
       "sentiment            0\n",
       "dtype: int64"
      ]
     },
     "execution_count": 12,
     "metadata": {},
     "output_type": "execute_result"
    }
   ],
   "source": [
    "df.isnull().sum()"
   ]
  },
  {
   "cell_type": "code",
   "execution_count": 13,
   "metadata": {},
   "outputs": [
    {
     "data": {
      "text/plain": [
       "positive    383122\n",
       "negative     66657\n",
       "Name: sentiment, dtype: int64"
      ]
     },
     "execution_count": 13,
     "metadata": {},
     "output_type": "execute_result"
    }
   ],
   "source": [
    "df['sentiment'].value_counts()"
   ]
  },
  {
   "cell_type": "code",
   "execution_count": 14,
   "metadata": {},
   "outputs": [],
   "source": [
    "df.to_csv('amazonReview.csv',index=False)"
   ]
  },
  {
   "cell_type": "code",
   "execution_count": null,
   "metadata": {},
   "outputs": [],
   "source": []
  }
 ],
 "metadata": {
  "kernelspec": {
   "display_name": "Python 3",
   "language": "python",
   "name": "python3"
  },
  "language_info": {
   "codemirror_mode": {
    "name": "ipython",
    "version": 3
   },
   "file_extension": ".py",
   "mimetype": "text/x-python",
   "name": "python",
   "nbconvert_exporter": "python",
   "pygments_lexer": "ipython3",
   "version": "3.8.5"
  }
 },
 "nbformat": 4,
 "nbformat_minor": 4
}
